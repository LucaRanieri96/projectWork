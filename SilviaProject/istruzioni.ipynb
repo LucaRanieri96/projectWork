{
 "cells": [
  {
   "cell_type": "markdown",
   "metadata": {},
   "source": [
    "Esame Project Work\n",
    "1. Aprire il dataset di formato .csv\n",
    "2. Controllo della correttezza del dataset\n",
    "1. Controllo valori nulli\n",
    "1. Verificare se ci sono ed eliminarli\n",
    "2. Controllo duplicati\n",
    "1. Verificare se ci sono ed eliminarli\n",
    "3. Controllo coerenza stringhe\n",
    "1. Se una colonna ha valori stringa verificare se ci sono errori ed eventualmente\n",
    "correggerli\n",
    "3. Analisi dati\n",
    "1. Calcolo media\n",
    "2. Calcolo mediana\n",
    "3. Calcolo varianza (std)\n",
    "4. Preprocessing dataset\n",
    "1. Normalizzazione (se necessaria)\n",
    "2. Conversione stringhe->numero\n",
    "5. Preparazione dei dati\n",
    "1. Dividere features dalle labels\n",
    "2. Split del dataset in training set e test set\n",
    "6. Modello di Machine Learning\n",
    "1. Scelta del modello da utilizzare\n",
    "2. Addestramento sul training set\n",
    "3. Predizioni sul test set\n",
    "7. Valutazione del modello\n",
    "1. Calcolare l’accuratezza del modello tra le labels ed il test set"
   ]
  }
 ],
 "metadata": {
  "language_info": {
   "name": "python"
  }
 },
 "nbformat": 4,
 "nbformat_minor": 2
}
