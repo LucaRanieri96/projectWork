{
 "cells": [
  {
   "cell_type": "markdown",
   "metadata": {},
   "source": [
    "CLASSIFICAZIONE:\n",
    "\n",
    "Flusso di lavoro:\n",
    "\n",
    "1. il dataset e' di immagini;\n",
    "preprocessing sulle immagini:\n",
    " - Ridimensionamento delle immagini:\n",
    "    1. Utilizza funzioni della libreria di Ale come resize_dataset_dog and resize_dataset_fabric per ridimensionare le immagini.\n",
    "    1000px x 1000px -> 64 x 64 -> 32 x 32 -> 16 x 16\n",
    " - Organizzazione della directory:\n",
    "   Assicurarsi che le immagini siano ben organizzate:\n",
    "   >Happy/immagini..\n",
    "   >Angry/immagini..\n",
    "   >CotoneNo/immagini..\n",
    "   >CotoneSi/immagini..\n",
    "\n",
    "2. Creazione del dataset (Numpy)\n",
    " - Caricamento e conversione in array numpy\n",
    "   - Utilizza funzioni create_dataset_dog o create_dataset_fabric per caricare le immagini, appiattirle, e creare un set di dati per etichette \n",
    " - Output: Un Array con i dati delle immagini e per ogni array di pixel sara' definita una label {[lista di pixel preprocessati], \"label\"}\n",
    "\n",
    "3. Utilizzare PCA -> Riduzione della dimensionalita'\n",
    " - Compattiamo la dimensionalita'(Principal Component Analysis) dei dati ed estrarre le caratteristiche principali (Questo e' un modello di ScikitLearn)\n",
    "\n",
    "Da qui in poi io rientro nei casi di classificazione che conoscevo prima\n",
    "\n",
    "4. Suddivisione del modello in train e test split\n",
    " - train_test_split di scikitlearn (80%, 20%)\n",
    "\n",
    "5. Addestrare il modello (Vedere quale modello scegliere)\n",
    " - SVC (sappiamo che divide il cluster secondo delle linee in base al kernel che selezioniamo)\n",
    " - Random Forest (alberi decisionali)\n",
    " - KNN (k nearest neighbour)\n",
    " - Reti Neurali (ma anche no! ci sono tutte altre cose da considerare ma se ci volete provare, non vi dico niente ahah)\n",
    "\n",
    "6. Valutazione del modello\n",
    " - stampare tutti i report e accuracy del modello, stampare correlation plot.\n",
    " - testare il modello (applicare il modello con foto esterne al dataset)\n"
   ]
  },
  {
   "cell_type": "markdown",
   "metadata": {},
   "source": []
  },
  {
   "cell_type": "markdown",
   "metadata": {},
   "source": []
  }
 ],
 "metadata": {
  "language_info": {
   "name": "python"
  }
 },
 "nbformat": 4,
 "nbformat_minor": 2
}
